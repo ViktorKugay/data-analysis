{
 "cells": [
  {
   "cell_type": "markdown",
   "metadata": {},
   "source": [
    "# t-tests, ANOVA and non-parametric tests"
   ]
  },
  {
   "cell_type": "code",
   "execution_count": 1,
   "metadata": {},
   "outputs": [],
   "source": [
    "import pandas as pd\n",
    "from scipy import stats "
   ]
  },
  {
   "cell_type": "markdown",
   "metadata": {},
   "source": [
    "Worldbank_upd.xlsx file contains World Bank data by countries for 2018 and 2019.\n",
    "\n",
    "**Description of variables**\n",
    "\n",
    "- CountryName\t- Country Name\n",
    "- CountryCode\t- Country Code\n",
    "- high_income\t- High income countries (Takes 2 values: 1 - belongs to the high income group of countries, 0 - no)\n",
    "- income\t- Income (Takes 3 values: high income, middle income, low income)\n",
    "- development\t- Developed or developing country (Takes 2 values: developing, developed)\n",
    "\n",
    "**Variables with data for 2018:**\n",
    "- Agriculturalrawmaterialsexpor\t- Agricultural raw materials exports (% of merchandise exports)\n",
    "- ArmsexportsSIPRItrendindica\t- Arms exports (SIPRI trend indicator values)\n",
    "- Commercialserviceexportscurr\t- Commercial service exports (current US dollars)\n",
    "- Communicationscomputeretc\t- Communications, computer, etc. (% of service exports, BoP)\n",
    "- Exportsofgoodsandservices\t- Exports of goods and services (% of GDP) \n",
    "- Exportsofgoodsandservicesa - Exports of goods and services (annual percent growth) \n",
    "- ExportsofgoodsandservicesB - Exports of goods and services (BoP, current US dollars) \n",
    "- Exportsofgoodsandservicesc - Exports of goods and services (constant 2010 US dollars) \n",
    "- Foodexportsofmerchandisee\t- Food exports (% of merchandise exports) \n",
    "- GoodsexportsBoPcurrentUS\t- Goods exports (BoP, current US dollars) \n",
    "- Fuelexportsofmerchandisee\t- Fuel exports (% of merchandise exports) \n",
    "- Hightechnologyexportsofma\t- High-technology exports (% of manufactured exports)\n",
    "- Hightechnologyexportscurrent\t- High-technology exports (current US dollars) \n",
    "- TaxesonexportscurrentLCU\t- Taxes on exports (current LCU) \n",
    "- Transportservicesofservice\t- Transport services (% of service exports, BoP)\n",
    "- Travelservicesofcommercial\t- Travel services (% of commercial service exports)\n",
    "- Travelservicesofserviceex\t- Travel services (% of service exports, BoP)\n",
    "\n",
    "\n",
    "**Variables with data for 2019**\n",
    "- Travelservicesofcommercial2019 - Travel services (% of commercial service exports)\n",
    "- Agriculturalrawmaterialsexpo2019 -  Agricultural raw materials exports (% of merchandise exports)\n",
    "- Communicationscomputeretc2019 - Communications, computer, etc. (% of service imports, BoP)\n",
    "- Transportservicesofservice2019 - Transport services (% of service exports, BoP)"
   ]
  },
  {
   "cell_type": "code",
   "execution_count": 2,
   "metadata": {},
   "outputs": [
    {
     "data": {
      "text/html": [
       "<div>\n",
       "<style scoped>\n",
       "    .dataframe tbody tr th:only-of-type {\n",
       "        vertical-align: middle;\n",
       "    }\n",
       "\n",
       "    .dataframe tbody tr th {\n",
       "        vertical-align: top;\n",
       "    }\n",
       "\n",
       "    .dataframe thead th {\n",
       "        text-align: right;\n",
       "    }\n",
       "</style>\n",
       "<table border=\"1\" class=\"dataframe\">\n",
       "  <thead>\n",
       "    <tr style=\"text-align: right;\">\n",
       "      <th></th>\n",
       "      <th>CountryName</th>\n",
       "      <th>CountryCode</th>\n",
       "      <th>Agriculturalrawmaterialsexpor</th>\n",
       "      <th>ArmsexportsSIPRItrendindica</th>\n",
       "      <th>Commercialserviceexportscurr</th>\n",
       "      <th>Communicationscomputeretc</th>\n",
       "      <th>Exportsofgoodsandservices</th>\n",
       "      <th>Exportsofgoodsandservicesa</th>\n",
       "      <th>ExportsofgoodsandservicesB</th>\n",
       "      <th>Exportsofgoodsandservicesc</th>\n",
       "      <th>...</th>\n",
       "      <th>Transportservicesofservice</th>\n",
       "      <th>Travelservicesofcommercial</th>\n",
       "      <th>Travelservicesofserviceex</th>\n",
       "      <th>high_income</th>\n",
       "      <th>income</th>\n",
       "      <th>development</th>\n",
       "      <th>Travelservicesofcommercial2019</th>\n",
       "      <th>Agriculturalrawmaterialsexpo2019</th>\n",
       "      <th>Communicationscomputeretc2019</th>\n",
       "      <th>Transportservicesofservice2019</th>\n",
       "    </tr>\n",
       "  </thead>\n",
       "  <tbody>\n",
       "    <tr>\n",
       "      <th>0</th>\n",
       "      <td>Afghanistan</td>\n",
       "      <td>AFG</td>\n",
       "      <td>17.113304</td>\n",
       "      <td>NaN</td>\n",
       "      <td>6.230657e+08</td>\n",
       "      <td>28.402324</td>\n",
       "      <td>NaN</td>\n",
       "      <td>NaN</td>\n",
       "      <td>1.611540e+09</td>\n",
       "      <td>NaN</td>\n",
       "      <td>...</td>\n",
       "      <td>24.602029</td>\n",
       "      <td>4.482772</td>\n",
       "      <td>3.793358</td>\n",
       "      <td>0</td>\n",
       "      <td>low income</td>\n",
       "      <td>developing</td>\n",
       "      <td>14.367959</td>\n",
       "      <td>NaN</td>\n",
       "      <td>6.467647</td>\n",
       "      <td>16.344074</td>\n",
       "    </tr>\n",
       "    <tr>\n",
       "      <th>1</th>\n",
       "      <td>Albania</td>\n",
       "      <td>ALB</td>\n",
       "      <td>0.313849</td>\n",
       "      <td>NaN</td>\n",
       "      <td>3.574339e+09</td>\n",
       "      <td>16.058391</td>\n",
       "      <td>31.684671</td>\n",
       "      <td>3.196598</td>\n",
       "      <td>4.784712e+09</td>\n",
       "      <td>4.807222e+09</td>\n",
       "      <td>...</td>\n",
       "      <td>8.443837</td>\n",
       "      <td>61.150507</td>\n",
       "      <td>60.361848</td>\n",
       "      <td>0</td>\n",
       "      <td>middle income</td>\n",
       "      <td>developing</td>\n",
       "      <td>62.216690</td>\n",
       "      <td>NaN</td>\n",
       "      <td>5.979548</td>\n",
       "      <td>7.154605</td>\n",
       "    </tr>\n",
       "    <tr>\n",
       "      <th>2</th>\n",
       "      <td>Algeria</td>\n",
       "      <td>DZA</td>\n",
       "      <td>NaN</td>\n",
       "      <td>NaN</td>\n",
       "      <td>NaN</td>\n",
       "      <td>NaN</td>\n",
       "      <td>25.623547</td>\n",
       "      <td>-4.300000</td>\n",
       "      <td>NaN</td>\n",
       "      <td>5.296803e+10</td>\n",
       "      <td>...</td>\n",
       "      <td>NaN</td>\n",
       "      <td>NaN</td>\n",
       "      <td>NaN</td>\n",
       "      <td>0</td>\n",
       "      <td>middle income</td>\n",
       "      <td>developing</td>\n",
       "      <td>NaN</td>\n",
       "      <td>NaN</td>\n",
       "      <td>NaN</td>\n",
       "      <td>NaN</td>\n",
       "    </tr>\n",
       "    <tr>\n",
       "      <th>3</th>\n",
       "      <td>American Samoa</td>\n",
       "      <td>ASM</td>\n",
       "      <td>NaN</td>\n",
       "      <td>NaN</td>\n",
       "      <td>NaN</td>\n",
       "      <td>NaN</td>\n",
       "      <td>68.867925</td>\n",
       "      <td>14.325843</td>\n",
       "      <td>NaN</td>\n",
       "      <td>3.321704e+08</td>\n",
       "      <td>...</td>\n",
       "      <td>NaN</td>\n",
       "      <td>NaN</td>\n",
       "      <td>NaN</td>\n",
       "      <td>0</td>\n",
       "      <td>middle income</td>\n",
       "      <td>developing</td>\n",
       "      <td>NaN</td>\n",
       "      <td>NaN</td>\n",
       "      <td>NaN</td>\n",
       "      <td>NaN</td>\n",
       "    </tr>\n",
       "    <tr>\n",
       "      <th>4</th>\n",
       "      <td>Andorra</td>\n",
       "      <td>AND</td>\n",
       "      <td>1.551347</td>\n",
       "      <td>NaN</td>\n",
       "      <td>NaN</td>\n",
       "      <td>NaN</td>\n",
       "      <td>NaN</td>\n",
       "      <td>NaN</td>\n",
       "      <td>NaN</td>\n",
       "      <td>NaN</td>\n",
       "      <td>...</td>\n",
       "      <td>NaN</td>\n",
       "      <td>NaN</td>\n",
       "      <td>NaN</td>\n",
       "      <td>1</td>\n",
       "      <td>high income</td>\n",
       "      <td>developed</td>\n",
       "      <td>NaN</td>\n",
       "      <td>NaN</td>\n",
       "      <td>NaN</td>\n",
       "      <td>NaN</td>\n",
       "    </tr>\n",
       "    <tr>\n",
       "      <th>...</th>\n",
       "      <td>...</td>\n",
       "      <td>...</td>\n",
       "      <td>...</td>\n",
       "      <td>...</td>\n",
       "      <td>...</td>\n",
       "      <td>...</td>\n",
       "      <td>...</td>\n",
       "      <td>...</td>\n",
       "      <td>...</td>\n",
       "      <td>...</td>\n",
       "      <td>...</td>\n",
       "      <td>...</td>\n",
       "      <td>...</td>\n",
       "      <td>...</td>\n",
       "      <td>...</td>\n",
       "      <td>...</td>\n",
       "      <td>...</td>\n",
       "      <td>...</td>\n",
       "      <td>...</td>\n",
       "      <td>...</td>\n",
       "      <td>...</td>\n",
       "    </tr>\n",
       "    <tr>\n",
       "      <th>212</th>\n",
       "      <td>Virgin Islands (U.S.)</td>\n",
       "      <td>VIR</td>\n",
       "      <td>NaN</td>\n",
       "      <td>NaN</td>\n",
       "      <td>NaN</td>\n",
       "      <td>NaN</td>\n",
       "      <td>NaN</td>\n",
       "      <td>NaN</td>\n",
       "      <td>NaN</td>\n",
       "      <td>NaN</td>\n",
       "      <td>...</td>\n",
       "      <td>NaN</td>\n",
       "      <td>NaN</td>\n",
       "      <td>NaN</td>\n",
       "      <td>1</td>\n",
       "      <td>high income</td>\n",
       "      <td>developing</td>\n",
       "      <td>NaN</td>\n",
       "      <td>NaN</td>\n",
       "      <td>NaN</td>\n",
       "      <td>NaN</td>\n",
       "    </tr>\n",
       "    <tr>\n",
       "      <th>213</th>\n",
       "      <td>West Bank and Gaza</td>\n",
       "      <td>PSE</td>\n",
       "      <td>NaN</td>\n",
       "      <td>NaN</td>\n",
       "      <td>5.608593e+08</td>\n",
       "      <td>36.257881</td>\n",
       "      <td>19.865352</td>\n",
       "      <td>7.878720</td>\n",
       "      <td>2.903485e+09</td>\n",
       "      <td>2.456322e+09</td>\n",
       "      <td>...</td>\n",
       "      <td>1.625164</td>\n",
       "      <td>43.720375</td>\n",
       "      <td>40.034937</td>\n",
       "      <td>0</td>\n",
       "      <td>middle income</td>\n",
       "      <td>developing</td>\n",
       "      <td>45.238319</td>\n",
       "      <td>0.913553</td>\n",
       "      <td>10.780279</td>\n",
       "      <td>1.079660</td>\n",
       "    </tr>\n",
       "    <tr>\n",
       "      <th>214</th>\n",
       "      <td>Yemen, Rep.</td>\n",
       "      <td>YEM</td>\n",
       "      <td>NaN</td>\n",
       "      <td>NaN</td>\n",
       "      <td>NaN</td>\n",
       "      <td>NaN</td>\n",
       "      <td>NaN</td>\n",
       "      <td>NaN</td>\n",
       "      <td>NaN</td>\n",
       "      <td>NaN</td>\n",
       "      <td>...</td>\n",
       "      <td>NaN</td>\n",
       "      <td>NaN</td>\n",
       "      <td>NaN</td>\n",
       "      <td>0</td>\n",
       "      <td>low income</td>\n",
       "      <td>developing</td>\n",
       "      <td>NaN</td>\n",
       "      <td>0.017167</td>\n",
       "      <td>NaN</td>\n",
       "      <td>NaN</td>\n",
       "    </tr>\n",
       "    <tr>\n",
       "      <th>215</th>\n",
       "      <td>Zambia</td>\n",
       "      <td>ZMB</td>\n",
       "      <td>0.903647</td>\n",
       "      <td>NaN</td>\n",
       "      <td>9.532642e+08</td>\n",
       "      <td>3.739193</td>\n",
       "      <td>37.422550</td>\n",
       "      <td>NaN</td>\n",
       "      <td>9.982666e+09</td>\n",
       "      <td>NaN</td>\n",
       "      <td>...</td>\n",
       "      <td>5.641202</td>\n",
       "      <td>77.857990</td>\n",
       "      <td>77.857990</td>\n",
       "      <td>0</td>\n",
       "      <td>middle income</td>\n",
       "      <td>developing</td>\n",
       "      <td>80.805321</td>\n",
       "      <td>1.332663</td>\n",
       "      <td>9.384435</td>\n",
       "      <td>4.395867</td>\n",
       "    </tr>\n",
       "    <tr>\n",
       "      <th>216</th>\n",
       "      <td>Zimbabwe</td>\n",
       "      <td>ZWE</td>\n",
       "      <td>4.462888</td>\n",
       "      <td>NaN</td>\n",
       "      <td>NaN</td>\n",
       "      <td>NaN</td>\n",
       "      <td>22.924114</td>\n",
       "      <td>-5.650233</td>\n",
       "      <td>NaN</td>\n",
       "      <td>5.898560e+09</td>\n",
       "      <td>...</td>\n",
       "      <td>NaN</td>\n",
       "      <td>NaN</td>\n",
       "      <td>NaN</td>\n",
       "      <td>0</td>\n",
       "      <td>middle income</td>\n",
       "      <td>developing</td>\n",
       "      <td>NaN</td>\n",
       "      <td>2.208890</td>\n",
       "      <td>NaN</td>\n",
       "      <td>NaN</td>\n",
       "    </tr>\n",
       "  </tbody>\n",
       "</table>\n",
       "<p>217 rows × 26 columns</p>\n",
       "</div>"
      ],
      "text/plain": [
       "               CountryName CountryCode  Agriculturalrawmaterialsexpor  \\\n",
       "0              Afghanistan         AFG                      17.113304   \n",
       "1                  Albania         ALB                       0.313849   \n",
       "2                  Algeria         DZA                            NaN   \n",
       "3           American Samoa         ASM                            NaN   \n",
       "4                  Andorra         AND                       1.551347   \n",
       "..                     ...         ...                            ...   \n",
       "212  Virgin Islands (U.S.)         VIR                            NaN   \n",
       "213     West Bank and Gaza         PSE                            NaN   \n",
       "214            Yemen, Rep.         YEM                            NaN   \n",
       "215                 Zambia         ZMB                       0.903647   \n",
       "216               Zimbabwe         ZWE                       4.462888   \n",
       "\n",
       "     ArmsexportsSIPRItrendindica  Commercialserviceexportscurr  \\\n",
       "0                            NaN                  6.230657e+08   \n",
       "1                            NaN                  3.574339e+09   \n",
       "2                            NaN                           NaN   \n",
       "3                            NaN                           NaN   \n",
       "4                            NaN                           NaN   \n",
       "..                           ...                           ...   \n",
       "212                          NaN                           NaN   \n",
       "213                          NaN                  5.608593e+08   \n",
       "214                          NaN                           NaN   \n",
       "215                          NaN                  9.532642e+08   \n",
       "216                          NaN                           NaN   \n",
       "\n",
       "     Communicationscomputeretc  Exportsofgoodsandservices  \\\n",
       "0                    28.402324                        NaN   \n",
       "1                    16.058391                  31.684671   \n",
       "2                          NaN                  25.623547   \n",
       "3                          NaN                  68.867925   \n",
       "4                          NaN                        NaN   \n",
       "..                         ...                        ...   \n",
       "212                        NaN                        NaN   \n",
       "213                  36.257881                  19.865352   \n",
       "214                        NaN                        NaN   \n",
       "215                   3.739193                  37.422550   \n",
       "216                        NaN                  22.924114   \n",
       "\n",
       "     Exportsofgoodsandservicesa  ExportsofgoodsandservicesB  \\\n",
       "0                           NaN                1.611540e+09   \n",
       "1                      3.196598                4.784712e+09   \n",
       "2                     -4.300000                         NaN   \n",
       "3                     14.325843                         NaN   \n",
       "4                           NaN                         NaN   \n",
       "..                          ...                         ...   \n",
       "212                         NaN                         NaN   \n",
       "213                    7.878720                2.903485e+09   \n",
       "214                         NaN                         NaN   \n",
       "215                         NaN                9.982666e+09   \n",
       "216                   -5.650233                         NaN   \n",
       "\n",
       "     Exportsofgoodsandservicesc  ...  Transportservicesofservice  \\\n",
       "0                           NaN  ...                   24.602029   \n",
       "1                  4.807222e+09  ...                    8.443837   \n",
       "2                  5.296803e+10  ...                         NaN   \n",
       "3                  3.321704e+08  ...                         NaN   \n",
       "4                           NaN  ...                         NaN   \n",
       "..                          ...  ...                         ...   \n",
       "212                         NaN  ...                         NaN   \n",
       "213                2.456322e+09  ...                    1.625164   \n",
       "214                         NaN  ...                         NaN   \n",
       "215                         NaN  ...                    5.641202   \n",
       "216                5.898560e+09  ...                         NaN   \n",
       "\n",
       "     Travelservicesofcommercial  Travelservicesofserviceex  high_income  \\\n",
       "0                      4.482772                   3.793358            0   \n",
       "1                     61.150507                  60.361848            0   \n",
       "2                           NaN                        NaN            0   \n",
       "3                           NaN                        NaN            0   \n",
       "4                           NaN                        NaN            1   \n",
       "..                          ...                        ...          ...   \n",
       "212                         NaN                        NaN            1   \n",
       "213                   43.720375                  40.034937            0   \n",
       "214                         NaN                        NaN            0   \n",
       "215                   77.857990                  77.857990            0   \n",
       "216                         NaN                        NaN            0   \n",
       "\n",
       "            income  development  Travelservicesofcommercial2019  \\\n",
       "0       low income   developing                       14.367959   \n",
       "1    middle income   developing                       62.216690   \n",
       "2    middle income   developing                             NaN   \n",
       "3    middle income   developing                             NaN   \n",
       "4      high income    developed                             NaN   \n",
       "..             ...          ...                             ...   \n",
       "212    high income   developing                             NaN   \n",
       "213  middle income   developing                       45.238319   \n",
       "214     low income   developing                             NaN   \n",
       "215  middle income   developing                       80.805321   \n",
       "216  middle income   developing                             NaN   \n",
       "\n",
       "     Agriculturalrawmaterialsexpo2019  Communicationscomputeretc2019  \\\n",
       "0                                 NaN                       6.467647   \n",
       "1                                 NaN                       5.979548   \n",
       "2                                 NaN                            NaN   \n",
       "3                                 NaN                            NaN   \n",
       "4                                 NaN                            NaN   \n",
       "..                                ...                            ...   \n",
       "212                               NaN                            NaN   \n",
       "213                          0.913553                      10.780279   \n",
       "214                          0.017167                            NaN   \n",
       "215                          1.332663                       9.384435   \n",
       "216                          2.208890                            NaN   \n",
       "\n",
       "     Transportservicesofservice2019  \n",
       "0                         16.344074  \n",
       "1                          7.154605  \n",
       "2                               NaN  \n",
       "3                               NaN  \n",
       "4                               NaN  \n",
       "..                              ...  \n",
       "212                             NaN  \n",
       "213                        1.079660  \n",
       "214                             NaN  \n",
       "215                        4.395867  \n",
       "216                             NaN  \n",
       "\n",
       "[217 rows x 26 columns]"
      ]
     },
     "execution_count": 2,
     "metadata": {},
     "output_type": "execute_result"
    }
   ],
   "source": [
    "df = pd.read_excel('Worldbank_upd.xlsx')\n",
    "df"
   ]
  },
  {
   "cell_type": "code",
   "execution_count": 3,
   "metadata": {},
   "outputs": [
    {
     "name": "stdout",
     "output_type": "stream",
     "text": [
      "<class 'pandas.core.frame.DataFrame'>\n",
      "RangeIndex: 217 entries, 0 to 216\n",
      "Data columns (total 26 columns):\n",
      " #   Column                            Non-Null Count  Dtype  \n",
      "---  ------                            --------------  -----  \n",
      " 0   CountryName                       217 non-null    object \n",
      " 1   CountryCode                       217 non-null    object \n",
      " 2   Agriculturalrawmaterialsexpor     126 non-null    float64\n",
      " 3   ArmsexportsSIPRItrendindica       40 non-null     float64\n",
      " 4   Commercialserviceexportscurr      164 non-null    float64\n",
      " 5   Communicationscomputeretc         159 non-null    float64\n",
      " 6   Exportsofgoodsandservices         168 non-null    float64\n",
      " 7   Exportsofgoodsandservicesa        151 non-null    float64\n",
      " 8   ExportsofgoodsandservicesB        163 non-null    float64\n",
      " 9   Exportsofgoodsandservicesc        148 non-null    float64\n",
      " 10  Foodexportsofmerchandisee         127 non-null    float64\n",
      " 11  GoodsexportsBoPcurrentUS          164 non-null    float64\n",
      " 12  Fuelexportsofmerchandisee         122 non-null    float64\n",
      " 13  Hightechnologyexportsofma         109 non-null    float64\n",
      " 14  Hightechnologyexportscurrent      109 non-null    float64\n",
      " 15  TaxesonexportscurrentLCU          22 non-null     float64\n",
      " 16  Transportservicesofservice        159 non-null    float64\n",
      " 17  Travelservicesofcommercial        161 non-null    float64\n",
      " 18  Travelservicesofserviceex         161 non-null    float64\n",
      " 19  high_income                       217 non-null    int64  \n",
      " 20  income                            217 non-null    object \n",
      " 21  development                       217 non-null    object \n",
      " 22  Travelservicesofcommercial2019    131 non-null    float64\n",
      " 23  Agriculturalrawmaterialsexpo2019  128 non-null    float64\n",
      " 24  Communicationscomputeretc2019     131 non-null    float64\n",
      " 25  Transportservicesofservice2019    131 non-null    float64\n",
      "dtypes: float64(21), int64(1), object(4)\n",
      "memory usage: 44.2+ KB\n"
     ]
    }
   ],
   "source": [
    "df.info()"
   ]
  },
  {
   "cell_type": "markdown",
   "metadata": {},
   "source": [
    "# Descriptive Statistics and Graphs"
   ]
  },
  {
   "cell_type": "code",
   "execution_count": 4,
   "metadata": {},
   "outputs": [
    {
     "data": {
      "text/html": [
       "<div>\n",
       "<style scoped>\n",
       "    .dataframe tbody tr th:only-of-type {\n",
       "        vertical-align: middle;\n",
       "    }\n",
       "\n",
       "    .dataframe tbody tr th {\n",
       "        vertical-align: top;\n",
       "    }\n",
       "\n",
       "    .dataframe thead tr th {\n",
       "        text-align: left;\n",
       "    }\n",
       "\n",
       "    .dataframe thead tr:last-of-type th {\n",
       "        text-align: right;\n",
       "    }\n",
       "</style>\n",
       "<table border=\"1\" class=\"dataframe\">\n",
       "  <thead>\n",
       "    <tr>\n",
       "      <th></th>\n",
       "      <th>mean</th>\n",
       "      <th>std</th>\n",
       "    </tr>\n",
       "    <tr>\n",
       "      <th></th>\n",
       "      <th>Travelservicesofserviceex</th>\n",
       "      <th>Travelservicesofserviceex</th>\n",
       "    </tr>\n",
       "    <tr>\n",
       "      <th>income</th>\n",
       "      <th></th>\n",
       "      <th></th>\n",
       "    </tr>\n",
       "  </thead>\n",
       "  <tbody>\n",
       "    <tr>\n",
       "      <th>high income</th>\n",
       "      <td>32.802454</td>\n",
       "      <td>22.581276</td>\n",
       "    </tr>\n",
       "    <tr>\n",
       "      <th>low income</th>\n",
       "      <td>34.703687</td>\n",
       "      <td>28.395078</td>\n",
       "    </tr>\n",
       "    <tr>\n",
       "      <th>middle income</th>\n",
       "      <td>50.091685</td>\n",
       "      <td>23.630570</td>\n",
       "    </tr>\n",
       "  </tbody>\n",
       "</table>\n",
       "</div>"
      ],
      "text/plain": [
       "                                   mean                       std\n",
       "              Travelservicesofserviceex Travelservicesofserviceex\n",
       "income                                                           \n",
       "high income                   32.802454                 22.581276\n",
       "low income                    34.703687                 28.395078\n",
       "middle income                 50.091685                 23.630570"
      ]
     },
     "execution_count": 4,
     "metadata": {},
     "output_type": "execute_result"
    }
   ],
   "source": [
    "df.pivot_table(index='income', values=['Travelservicesofserviceex'], aggfunc=['mean', 'std'])\n",
    "#We can see the mean and the standard deviation of the variable Travel services (% of service exports) in three country groups"
   ]
  },
  {
   "cell_type": "code",
   "execution_count": 6,
   "metadata": {},
   "outputs": [
    {
     "data": {
      "text/plain": [
       "<matplotlib.axes._subplots.AxesSubplot at 0x1d08440a648>"
      ]
     },
     "execution_count": 6,
     "metadata": {},
     "output_type": "execute_result"
    },
    {
     "data": {
      "image/png": "[encoded data removed]",
      "text/plain": [
       "<Figure size 432x288 with 1 Axes>"
      ]
     },
     "metadata": {
      "needs_background": "light"
     },
     "output_type": "display_data"
    }
   ],
   "source": [
    "df.groupby('income')[['Travelservicesofserviceex']].mean().plot(kind='bar')\n",
    "#mean values of Travel services (% of service exports) in three income groups"
   ]
  },
  {
   "cell_type": "code",
   "execution_count": 7,
   "metadata": {},
   "outputs": [
    {
     "data": {
      "image/png": "[encoded data removed]",
      "text/plain": [
       "<Figure size 432x288 with 1 Axes>"
      ]
     },
     "metadata": {
      "needs_background": "light"
     },
     "output_type": "display_data"
    }
   ],
   "source": [
    "import matplotlib.pyplot as plt\n",
    "x = ['low income', 'middle income', 'high income']\n",
    "y = [df[df.income=='low income']['Travelservicesofserviceex'].mean(), df[df.income=='middle income']['Travelservicesofserviceex'].mean(), df[df.income=='high income']['Travelservicesofserviceex'].mean()]\n",
    "e = [df[df.income=='low income']['Travelservicesofserviceex'].std(), df[df.income=='middle income']['Travelservicesofserviceex'].std(), df[df.income=='high income']['Travelservicesofserviceex'].std()]\n",
    "plt.errorbar(x, y, yerr=e, fmt='o')\n",
    "plt.show()\n",
    "#The graph is called \"Error bars\". It shows the mean and the standard deviation in each group"
   ]
  },
  {
   "cell_type": "markdown",
   "metadata": {},
   "source": [
    "## Normality Test"
   ]
  },
  {
   "cell_type": "code",
   "execution_count": 8,
   "metadata": {},
   "outputs": [
    {
     "data": {
      "text/plain": [
       "KstestResult(statistic=0.08336118017262845, pvalue=0.2015993092471272)"
      ]
     },
     "execution_count": 8,
     "metadata": {},
     "output_type": "execute_result"
    }
   ],
   "source": [
    "df = pd.read_excel('Worldbank_upd.xlsx')\n",
    "df = df.dropna(subset=['Travelservicesofserviceex'])\n",
    "stats.kstest(df.Travelservicesofserviceex, 'norm', args=(df.Travelservicesofserviceex.mean(), df.Travelservicesofserviceex.std()))"
   ]
  },
  {
   "cell_type": "markdown",
   "metadata": {},
   "source": [
    "H1: The distribution of *Travel services (% of service exports)* variable is different from the normal distribution\n",
    "\n",
    "H0: The distribution of *Travel services (% of service exports)* variable is not different from the normal distribution\n",
    "\n",
    "Conclusion: as p-value > 0.05, H1 is rejected => the distribution is not significantly different from normal\n",
    "\n",
    "It means that t-tests can be used to compare mean values of the variable in groups."
   ]
  },
  {
   "cell_type": "code",
   "execution_count": 9,
   "metadata": {},
   "outputs": [
    {
     "data": {
      "text/plain": [
       "<matplotlib.axes._subplots.AxesSubplot at 0x1d086ae1fc8>"
      ]
     },
     "execution_count": 9,
     "metadata": {},
     "output_type": "execute_result"
    },
    {
     "data": {
      "image/png": "[encoded data removed]",
      "text/plain": [
       "<Figure size 432x288 with 1 Axes>"
      ]
     },
     "metadata": {
      "needs_background": "light"
     },
     "output_type": "display_data"
    }
   ],
   "source": [
    "import seaborn as sns \n",
    "sns.distplot(df.Travelservicesofserviceex, fit=stats.norm)  "
   ]
  },
  {
   "cell_type": "markdown",
   "metadata": {},
   "source": [
    "# Independent-samples t-test"
   ]
  },
  {
   "cell_type": "code",
   "execution_count": 10,
   "metadata": {},
   "outputs": [
    {
     "data": {
      "text/html": [
       "<div>\n",
       "<style scoped>\n",
       "    .dataframe tbody tr th:only-of-type {\n",
       "        vertical-align: middle;\n",
       "    }\n",
       "\n",
       "    .dataframe tbody tr th {\n",
       "        vertical-align: top;\n",
       "    }\n",
       "\n",
       "    .dataframe thead th {\n",
       "        text-align: right;\n",
       "    }\n",
       "</style>\n",
       "<table border=\"1\" class=\"dataframe\">\n",
       "  <thead>\n",
       "    <tr style=\"text-align: right;\">\n",
       "      <th></th>\n",
       "      <th>count</th>\n",
       "      <th>mean</th>\n",
       "      <th>std</th>\n",
       "      <th>min</th>\n",
       "      <th>25%</th>\n",
       "      <th>50%</th>\n",
       "      <th>75%</th>\n",
       "      <th>max</th>\n",
       "    </tr>\n",
       "    <tr>\n",
       "      <th>high_income</th>\n",
       "      <th></th>\n",
       "      <th></th>\n",
       "      <th></th>\n",
       "      <th></th>\n",
       "      <th></th>\n",
       "      <th></th>\n",
       "      <th></th>\n",
       "      <th></th>\n",
       "    </tr>\n",
       "  </thead>\n",
       "  <tbody>\n",
       "    <tr>\n",
       "      <th>0</th>\n",
       "      <td>102.0</td>\n",
       "      <td>47.677881</td>\n",
       "      <td>24.926204</td>\n",
       "      <td>0.674764</td>\n",
       "      <td>28.292903</td>\n",
       "      <td>50.277136</td>\n",
       "      <td>69.668599</td>\n",
       "      <td>91.810856</td>\n",
       "    </tr>\n",
       "    <tr>\n",
       "      <th>1</th>\n",
       "      <td>59.0</td>\n",
       "      <td>32.802454</td>\n",
       "      <td>22.581276</td>\n",
       "      <td>2.904751</td>\n",
       "      <td>13.264232</td>\n",
       "      <td>25.959672</td>\n",
       "      <td>47.836613</td>\n",
       "      <td>92.670309</td>\n",
       "    </tr>\n",
       "  </tbody>\n",
       "</table>\n",
       "</div>"
      ],
      "text/plain": [
       "             count       mean        std       min        25%        50%  \\\n",
       "high_income                                                                \n",
       "0            102.0  47.677881  24.926204  0.674764  28.292903  50.277136   \n",
       "1             59.0  32.802454  22.581276  2.904751  13.264232  25.959672   \n",
       "\n",
       "                   75%        max  \n",
       "high_income                        \n",
       "0            69.668599  91.810856  \n",
       "1            47.836613  92.670309  "
      ]
     },
     "execution_count": 10,
     "metadata": {},
     "output_type": "execute_result"
    }
   ],
   "source": [
    "df.groupby('high_income')['Travelservicesofserviceex'].describe()\n",
    "#compare vales of Travel services (% of service exports) in 2 groups of countries (high income and others)"
   ]
  },
  {
   "cell_type": "code",
   "execution_count": 11,
   "metadata": {},
   "outputs": [],
   "source": [
    "group1 = df[df['high_income']==0]['Travelservicesofserviceex']\n",
    "group2 = df[df['high_income']==1]['Travelservicesofserviceex']"
   ]
  },
  {
   "cell_type": "code",
   "execution_count": 12,
   "metadata": {},
   "outputs": [
    {
     "data": {
      "text/plain": [
       "Ttest_indResult(statistic=3.7741113108241766, pvalue=0.00022629507895983235)"
      ]
     },
     "execution_count": 12,
     "metadata": {},
     "output_type": "execute_result"
    }
   ],
   "source": [
    "stats.ttest_ind(group1, group2)"
   ]
  },
  {
   "cell_type": "markdown",
   "metadata": {},
   "source": [
    "H1: Mean values of the *percent of travel services out of service exports* for high income countries and other countries are different.\n",
    "\n",
    "p-value < 0.05, H1 is accepted, there is a statistically significant difference in mean values of the dependent variable in the two groups"
   ]
  },
  {
   "cell_type": "markdown",
   "metadata": {},
   "source": [
    "### Levene's Test for Equality of Variances "
   ]
  },
  {
   "cell_type": "code",
   "execution_count": 13,
   "metadata": {},
   "outputs": [
    {
     "data": {
      "text/plain": [
       "LeveneResult(statistic=1.523384923263628, pvalue=0.2189290895038922)"
      ]
     },
     "execution_count": 13,
     "metadata": {},
     "output_type": "execute_result"
    }
   ],
   "source": [
    "stats.levene(group1, group2)"
   ]
  },
  {
   "cell_type": "markdown",
   "metadata": {},
   "source": [
    "H1: Variances of the *percent of travel services out of service exports* for high income countries and other countries are different.\n",
    "\n",
    "p-value > 0.05, H1 is rejected, variances in two groups are not different"
   ]
  },
  {
   "cell_type": "code",
   "execution_count": 14,
   "metadata": {},
   "outputs": [
    {
     "data": {
      "text/plain": [
       "Ttest_indResult(statistic=3.875341678083777, pvalue=0.00016743177615007949)"
      ]
     },
     "execution_count": 14,
     "metadata": {},
     "output_type": "execute_result"
    }
   ],
   "source": [
    "stats.ttest_ind(group1, group2, equal_var=False) #if variances are different\n",
    "#in this case a t-test with Welch correction is calculated\n",
    "#the degrees of freedom are calculated differently, they are less than in the standard t-test calculation"
   ]
  },
  {
   "cell_type": "markdown",
   "metadata": {},
   "source": [
    "# One-sample t-test"
   ]
  },
  {
   "cell_type": "code",
   "execution_count": 15,
   "metadata": {},
   "outputs": [
    {
     "data": {
      "text/plain": [
       "Ttest_1sampResult(statistic=1.1267449103278864, pvalue=0.2615373786541348)"
      ]
     },
     "execution_count": 15,
     "metadata": {},
     "output_type": "execute_result"
    }
   ],
   "source": [
    "stats.ttest_1samp(df['Travelservicesofserviceex'].dropna(), 40)"
   ]
  },
  {
   "cell_type": "markdown",
   "metadata": {},
   "source": [
    "H1: Mean value of the *percent of travel services out of service exports* is different from 40\n",
    "p-value > 0.05, H1 is rejected"
   ]
  },
  {
   "cell_type": "code",
   "execution_count": 16,
   "metadata": {},
   "outputs": [
    {
     "data": {
      "text/plain": [
       "Ttest_1sampResult(statistic=-49.476227090249566, pvalue=6.904596284425387e-99)"
      ]
     },
     "execution_count": 16,
     "metadata": {},
     "output_type": "execute_result"
    }
   ],
   "source": [
    "stats.ttest_1samp(df['Travelservicesofserviceex'].dropna(), 140)"
   ]
  },
  {
   "cell_type": "markdown",
   "metadata": {},
   "source": [
    "H1: Mean value of the *percent of travel services out of service exports* is different from 140\n",
    "p-value < 0.05, H1 is accepted"
   ]
  },
  {
   "cell_type": "markdown",
   "metadata": {},
   "source": [
    "# Paired-samples t-test "
   ]
  },
  {
   "cell_type": "markdown",
   "metadata": {},
   "source": [
    "### Normality Test"
   ]
  },
  {
   "cell_type": "code",
   "execution_count": 17,
   "metadata": {},
   "outputs": [
    {
     "data": {
      "text/plain": [
       "KstestResult(statistic=0.09553969641122728, pvalue=0.09907565566329135)"
      ]
     },
     "execution_count": 17,
     "metadata": {},
     "output_type": "execute_result"
    }
   ],
   "source": [
    "df = pd.read_excel('Worldbank_upd.xlsx')\n",
    "df = df.dropna(subset=['Travelservicesofcommercial'])\n",
    "stats.kstest(df.Travelservicesofcommercial, 'norm', args=(df.Travelservicesofcommercial.mean(), df.Travelservicesofcommercial.std()))"
   ]
  },
  {
   "cell_type": "code",
   "execution_count": 18,
   "metadata": {},
   "outputs": [
    {
     "data": {
      "text/plain": [
       "<matplotlib.axes._subplots.AxesSubplot at 0x1d086b23808>"
      ]
     },
     "execution_count": 18,
     "metadata": {},
     "output_type": "execute_result"
    },
    {
     "data": {
      "image/png": "[encoded data removed]",
      "text/plain": [
       "<Figure size 432x288 with 1 Axes>"
      ]
     },
     "metadata": {
      "needs_background": "light"
     },
     "output_type": "display_data"
    }
   ],
   "source": [
    "sns.distplot(df.Travelservicesofcommercial, fit=stats.norm)  "
   ]
  },
  {
   "cell_type": "code",
   "execution_count": 19,
   "metadata": {},
   "outputs": [
    {
     "data": {
      "text/plain": [
       "KstestResult(statistic=0.10719599483561548, pvalue=0.09146201642540364)"
      ]
     },
     "execution_count": 19,
     "metadata": {},
     "output_type": "execute_result"
    }
   ],
   "source": [
    "df = pd.read_excel('Worldbank_upd.xlsx')\n",
    "df = df.dropna(subset=['Travelservicesofcommercial2019'])\n",
    "stats.kstest(df.Travelservicesofcommercial2019, 'norm', args=(df.Travelservicesofcommercial2019.mean(), df.Travelservicesofcommercial2019.std()))"
   ]
  },
  {
   "cell_type": "code",
   "execution_count": 20,
   "metadata": {},
   "outputs": [
    {
     "data": {
      "text/plain": [
       "<matplotlib.axes._subplots.AxesSubplot at 0x1d086c108c8>"
      ]
     },
     "execution_count": 20,
     "metadata": {},
     "output_type": "execute_result"
    },
    {
     "data": {
      "image/png": "[encoded data removed]",
      "text/plain": [
       "<Figure size 432x288 with 1 Axes>"
      ]
     },
     "metadata": {
      "needs_background": "light"
     },
     "output_type": "display_data"
    }
   ],
   "source": [
    "sns.distplot(df.Travelservicesofcommercial2019, fit=stats.norm)  "
   ]
  },
  {
   "cell_type": "markdown",
   "metadata": {},
   "source": [
    "The distribution of the variable *Travel services (% of commercial service exports)* both in 2018 and in 2019 was not different from normal."
   ]
  },
  {
   "cell_type": "code",
   "execution_count": 21,
   "metadata": {},
   "outputs": [
    {
     "data": {
      "text/plain": [
       "Ttest_relResult(statistic=0.6699875444020236, pvalue=0.50407262798285)"
      ]
     },
     "execution_count": 21,
     "metadata": {},
     "output_type": "execute_result"
    }
   ],
   "source": [
    "df = df.dropna(subset=['Travelservicesofcommercial'])\n",
    "df = df.dropna(subset=['Travelservicesofcommercial2019'])\n",
    "stats.ttest_rel(df['Travelservicesofcommercial2019'], df['Travelservicesofcommercial'])"
   ]
  },
  {
   "cell_type": "markdown",
   "metadata": {},
   "source": [
    "H1: Mean values of the *percent of travel services out of commercial service exports* for countries in 2018 and in 2019 are different.\n",
    "\n",
    "p-value > 0.05, H1 is rejected, mean values are not different"
   ]
  },
  {
   "cell_type": "markdown",
   "metadata": {},
   "source": [
    "# ANOVA"
   ]
  },
  {
   "cell_type": "code",
   "execution_count": 22,
   "metadata": {},
   "outputs": [],
   "source": [
    "group_high = df[df['income']=='high income']['Travelservicesofserviceex']\n",
    "group_low = df[df['income']=='low income']['Travelservicesofserviceex']\n",
    "group_middle = df[df['income']=='middle income']['Travelservicesofserviceex']"
   ]
  },
  {
   "cell_type": "code",
   "execution_count": 23,
   "metadata": {},
   "outputs": [
    {
     "data": {
      "text/plain": [
       "F_onewayResult(statistic=10.470395287625397, pvalue=6.214052225384186e-05)"
      ]
     },
     "execution_count": 23,
     "metadata": {},
     "output_type": "execute_result"
    }
   ],
   "source": [
    "stats.f_oneway(group_high, group_low, group_middle)"
   ]
  },
  {
   "cell_type": "markdown",
   "metadata": {},
   "source": [
    "H1: the mean values of the *percent of travel services out of service exports* for groups of countries based on income are different\n",
    "\n",
    "p-value < 0.05, means are different\n",
    "\n",
    "Pairwise post-hoc testing will determine whether there is a difference between the means of all possible pairs (all pairwise comparisons)."
   ]
  },
  {
   "cell_type": "code",
   "execution_count": 24,
   "metadata": {},
   "outputs": [
    {
     "name": "stdout",
     "output_type": "stream",
     "text": [
      "       Multiple Comparison of Means - Tukey HSD, FWER=0.05       \n",
      "=================================================================\n",
      "   group1       group2    meandiff p-adj   lower    upper  reject\n",
      "-----------------------------------------------------------------\n",
      "high income    low income -11.7664 0.4381 -34.4083 10.8755  False\n",
      "high income middle income  16.0796  0.001     6.52 25.6392   True\n",
      " low income middle income   27.846 0.0105   5.4515 50.2404   True\n",
      "-----------------------------------------------------------------\n"
     ]
    }
   ],
   "source": [
    "from statsmodels.stats.multicomp import pairwise_tukeyhsd\n",
    "print(pairwise_tukeyhsd(df['Travelservicesofserviceex'], df['income']))"
   ]
  },
  {
   "cell_type": "markdown",
   "metadata": {},
   "source": [
    "According to the results of the post-hoc test, statistically significant differences in the mean values of *Travel services (% of service exports) *are observed between high income and middle income groups, as well as between low income and middle income groups. "
   ]
  },
  {
   "cell_type": "markdown",
   "metadata": {},
   "source": [
    "# Non-parametric tests \n",
    "\n",
    "## Normality Test"
   ]
  },
  {
   "cell_type": "code",
   "execution_count": 25,
   "metadata": {},
   "outputs": [
    {
     "data": {
      "text/plain": [
       "KstestResult(statistic=0.347901815635626, pvalue=3.924587324163506e-14)"
      ]
     },
     "execution_count": 25,
     "metadata": {},
     "output_type": "execute_result"
    }
   ],
   "source": [
    "df = pd.read_excel('Worldbank_upd.xlsx')\n",
    "df = df.dropna(subset=['Agriculturalrawmaterialsexpor'])\n",
    "stats.kstest(df.Agriculturalrawmaterialsexpor, 'norm', args=(df.Agriculturalrawmaterialsexpor.mean(), df.Agriculturalrawmaterialsexpor.std()))"
   ]
  },
  {
   "cell_type": "code",
   "execution_count": 26,
   "metadata": {},
   "outputs": [
    {
     "data": {
      "text/plain": [
       "<matplotlib.axes._subplots.AxesSubplot at 0x1d086dcac88>"
      ]
     },
     "execution_count": 26,
     "metadata": {},
     "output_type": "execute_result"
    },
    {
     "data": {
      "image/png": "[encoded data removed]",
      "text/plain": [
       "<Figure size 432x288 with 1 Axes>"
      ]
     },
     "metadata": {
      "needs_background": "light"
     },
     "output_type": "display_data"
    }
   ],
   "source": [
    "import seaborn as sns \n",
    "sns.distplot(df.Agriculturalrawmaterialsexpor, fit=stats.norm)  "
   ]
  },
  {
   "cell_type": "markdown",
   "metadata": {},
   "source": [
    "As the distribution of the variable *Agricultural raw materials exports (% of merchandise exports)* is significantly different from normal, to compare the values of the variable in different groups nonparametric tests should be used."
   ]
  },
  {
   "cell_type": "markdown",
   "metadata": {},
   "source": [
    "# Mann-Whitney U Test"
   ]
  },
  {
   "cell_type": "code",
   "execution_count": 27,
   "metadata": {},
   "outputs": [],
   "source": [
    "df = pd.read_excel('Worldbank_upd.xlsx')\n",
    "group1 = df[df['high_income']==0]['Agriculturalrawmaterialsexpor']\n",
    "group2 = df[df['high_income']==1]['Agriculturalrawmaterialsexpor']"
   ]
  },
  {
   "cell_type": "code",
   "execution_count": 28,
   "metadata": {},
   "outputs": [
    {
     "data": {
      "text/plain": [
       "MannwhitneyuResult(statistic=2372.0, pvalue=0.04713364008178049)"
      ]
     },
     "execution_count": 28,
     "metadata": {},
     "output_type": "execute_result"
    }
   ],
   "source": [
    "stats.mannwhitneyu(group1.dropna(), group2.dropna())"
   ]
  },
  {
   "cell_type": "markdown",
   "metadata": {},
   "source": [
    "H1: Values of the variable *Agricultural raw materials exports (% of merchandise exports)* for high income countries and other countries are different.\n",
    "\n",
    "p-value < 0.05, H1 is accepted\n"
   ]
  },
  {
   "cell_type": "markdown",
   "metadata": {},
   "source": [
    "# Wilcoxon signed-rank test"
   ]
  },
  {
   "cell_type": "code",
   "execution_count": 29,
   "metadata": {},
   "outputs": [
    {
     "data": {
      "text/plain": [
       "KstestResult(statistic=0.347901815635626, pvalue=3.924587324163506e-14)"
      ]
     },
     "execution_count": 29,
     "metadata": {},
     "output_type": "execute_result"
    }
   ],
   "source": [
    "df = pd.read_excel('Worldbank_upd.xlsx')\n",
    "df = df.dropna(subset=['Agriculturalrawmaterialsexpor'])\n",
    "stats.kstest(df.Agriculturalrawmaterialsexpor, 'norm', args=(df.Agriculturalrawmaterialsexpor.mean(), df.Agriculturalrawmaterialsexpor.std()))"
   ]
  },
  {
   "cell_type": "code",
   "execution_count": 30,
   "metadata": {},
   "outputs": [
    {
     "data": {
      "text/plain": [
       "<matplotlib.axes._subplots.AxesSubplot at 0x1d086e7d948>"
      ]
     },
     "execution_count": 30,
     "metadata": {},
     "output_type": "execute_result"
    },
    {
     "data": {
      "image/png": "[encoded data removed]",
      "text/plain": [
       "<Figure size 432x288 with 1 Axes>"
      ]
     },
     "metadata": {
      "needs_background": "light"
     },
     "output_type": "display_data"
    }
   ],
   "source": [
    "sns.distplot(df.Agriculturalrawmaterialsexpor, fit=stats.norm)  "
   ]
  },
  {
   "cell_type": "code",
   "execution_count": 31,
   "metadata": {},
   "outputs": [
    {
     "data": {
      "text/plain": [
       "KstestResult(statistic=0.32723067689605356, pvalue=1.0454902400581402e-12)"
      ]
     },
     "execution_count": 31,
     "metadata": {},
     "output_type": "execute_result"
    }
   ],
   "source": [
    "df = pd.read_excel('Worldbank_upd.xlsx')\n",
    "stats.kstest(df.Agriculturalrawmaterialsexpo2019.dropna(), 'norm', args=(df.Agriculturalrawmaterialsexpo2019.mean(), df.Agriculturalrawmaterialsexpo2019.std()))"
   ]
  },
  {
   "cell_type": "code",
   "execution_count": 34,
   "metadata": {},
   "outputs": [
    {
     "data": {
      "text/plain": [
       "<matplotlib.axes._subplots.AxesSubplot at 0x1d08712df08>"
      ]
     },
     "execution_count": 34,
     "metadata": {},
     "output_type": "execute_result"
    },
    {
     "data": {
      "image/png": "[encoded data removed]",
      "text/plain": [
       "<Figure size 432x288 with 1 Axes>"
      ]
     },
     "metadata": {
      "needs_background": "light"
     },
     "output_type": "display_data"
    }
   ],
   "source": [
    "sns.distplot(df.Agriculturalrawmaterialsexpo2019.dropna(), fit=stats.norm)  "
   ]
  },
  {
   "cell_type": "markdown",
   "metadata": {},
   "source": [
    "The distribution of the variable *Agricultural raw materials exports (% of merchandise exports)* both in 2018 and in 2019 was different from normal."
   ]
  },
  {
   "cell_type": "code",
   "execution_count": 35,
   "metadata": {},
   "outputs": [
    {
     "data": {
      "text/plain": [
       "WilcoxonResult(statistic=2261.0, pvalue=0.025972469414897743)"
      ]
     },
     "execution_count": 35,
     "metadata": {},
     "output_type": "execute_result"
    }
   ],
   "source": [
    "df = pd.read_excel('Worldbank_upd.xlsx')\n",
    "df = df.dropna(subset=['Agriculturalrawmaterialsexpor'])\n",
    "df = df.dropna(subset=['Agriculturalrawmaterialsexpo2019'])\n",
    "stats.wilcoxon(df['Agriculturalrawmaterialsexpor'], df['Agriculturalrawmaterialsexpo2019'])"
   ]
  },
  {
   "cell_type": "markdown",
   "metadata": {},
   "source": [
    "H1: Values of the variable *Agricultural raw materials exports (% of merchandise exports)* for countries in 2018 and in 2019 are different.\n",
    "\n",
    "p-value < 0.05, H1 is accepted"
   ]
  },
  {
   "cell_type": "markdown",
   "metadata": {},
   "source": [
    "# Kruskal-Wallis test"
   ]
  },
  {
   "cell_type": "code",
   "execution_count": 36,
   "metadata": {},
   "outputs": [],
   "source": [
    "group_high = df[df['income']=='high income']['Agriculturalrawmaterialsexpor']\n",
    "group_low = df[df['income']=='low income']['Agriculturalrawmaterialsexpor']\n",
    "group_middle = df[df['income']=='middle income']['Agriculturalrawmaterialsexpor']"
   ]
  },
  {
   "cell_type": "code",
   "execution_count": 37,
   "metadata": {},
   "outputs": [
    {
     "data": {
      "text/plain": [
       "KruskalResult(statistic=2.8498658170632893, pvalue=0.24052459981559898)"
      ]
     },
     "execution_count": 37,
     "metadata": {},
     "output_type": "execute_result"
    }
   ],
   "source": [
    "stats.kruskal(group_high, group_low, group_middle)"
   ]
  },
  {
   "cell_type": "markdown",
   "metadata": {},
   "source": [
    "H1: Values of the variable *Agricultural raw materials exports (% of merchandise exports)* for groups of countries based on income are different.\n",
    "\n",
    "p-value < 0.05, H1 is accepted"
   ]
  },
  {
   "cell_type": "markdown",
   "metadata": {},
   "source": [
    "To find out in which groups the values differ, we can conduct Mann-Whitney tests between all possible pairs of groups."
   ]
  },
  {
   "cell_type": "code",
   "execution_count": 38,
   "metadata": {},
   "outputs": [
    {
     "name": "stdout",
     "output_type": "stream",
     "text": [
      "group_high and group_low: 0.28447275994445803\n",
      "group_high and group_middle: 0.14838613307206683\n",
      "group_low and group_middle: 0.5768410926305664\n"
     ]
    }
   ],
   "source": [
    "from itertools import combinations\n",
    "list_groups = ['group_high', 'group_low', 'group_middle']\n",
    "for a, b in combinations(list_groups, 2):\n",
    "    print(f'{a} and {b}:', stats.mannwhitneyu(eval(a), eval(b))[1])"
   ]
  },
  {
   "cell_type": "markdown",
   "metadata": {},
   "source": [
    "According to the results, statistically significant differences in the values of the variable *Agricultural raw materials exports (% of merchandise exports)* are observed between high income and middle income groups, as well as between low income and middle income groups."
   ]
  }
 ],
 "metadata": {
  "kernelspec": {
   "display_name": "Python 3",
   "language": "python",
   "name": "python3"
  },
  "language_info": {
   "codemirror_mode": {
    "name": "ipython",
    "version": 3
   },
   "file_extension": ".py",
   "mimetype": "text/x-python",
   "name": "python",
   "nbconvert_exporter": "python",
   "pygments_lexer": "ipython3",
   "version": "3.7.4"
  }
 },
 "nbformat": 4,
 "nbformat_minor": 2
}
